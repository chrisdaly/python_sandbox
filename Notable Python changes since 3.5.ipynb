{
 "cells": [
  {
   "cell_type": "markdown",
   "id": "78afccae",
   "metadata": {},
   "source": [
    "## Assignment expressions"
   ]
  },
  {
   "cell_type": "code",
   "execution_count": 5,
   "id": "f1058357",
   "metadata": {},
   "outputs": [
    {
     "name": "stdout",
     "output_type": "stream",
     "text": [
      "List is too long (19 elements, expected <= 10)\n"
     ]
    },
    {
     "data": {
      "text/plain": [
       "19"
      ]
     },
     "execution_count": 5,
     "metadata": {},
     "output_type": "execute_result"
    }
   ],
   "source": [
    "a = range(19)\n",
    "\n",
    "if (n := len(a)) > 10:\n",
    "    print(f\"List is too long ({n} elements, expected <= 10)\")\n",
    "    \n",
    "n"
   ]
  },
  {
   "cell_type": "markdown",
   "id": "bc6c5789",
   "metadata": {},
   "source": [
    "## f string self-documenting expressions"
   ]
  },
  {
   "cell_type": "code",
   "execution_count": 20,
   "id": "02b1942a",
   "metadata": {},
   "outputs": [
    {
     "data": {
      "text/plain": [
       "\"user='eric_idle' member_since=datetime.date(1975, 7, 31)\""
      ]
     },
     "execution_count": 20,
     "metadata": {},
     "output_type": "execute_result"
    }
   ],
   "source": [
    "from datetime import date\n",
    "\n",
    "user = 'eric_idle'\n",
    "member_since = date(1975, 7, 31)\n",
    "f'{user=} {member_since=}'"
   ]
  },
  {
   "cell_type": "markdown",
   "id": "38970072",
   "metadata": {},
   "source": [
    "## Dictionary Merge & Update Operators\n"
   ]
  },
  {
   "cell_type": "code",
   "execution_count": 12,
   "id": "b9a9663e",
   "metadata": {},
   "outputs": [
    {
     "data": {
      "text/plain": [
       "{'key1': 'value1 from x', 'key2': 'value2 from y', 'key3': 'value3 from y'}"
      ]
     },
     "execution_count": 12,
     "metadata": {},
     "output_type": "execute_result"
    }
   ],
   "source": [
    "x = {\"key1\": \"value1 from x\", \"key2\": \"value2 from x\"}\n",
    "y = {\"key2\": \"value2 from y\", \"key3\": \"value3 from y\"}\n",
    "x | y"
   ]
  },
  {
   "cell_type": "markdown",
   "id": "29c9172d",
   "metadata": {},
   "source": [
    "## Remove Prefixes and Suffixes"
   ]
  },
  {
   "cell_type": "code",
   "execution_count": 14,
   "id": "14de8883",
   "metadata": {},
   "outputs": [
    {
     "data": {
      "text/plain": [
       "'test'"
      ]
     },
     "execution_count": 14,
     "metadata": {},
     "output_type": "execute_result"
    }
   ],
   "source": [
    "\"#test_\".removeprefix(\"#\").removesuffix(\"_\")"
   ]
  },
  {
   "cell_type": "markdown",
   "id": "60a21480",
   "metadata": {},
   "source": [
    "## Type Hinting Generics in Standard Collections¶\n"
   ]
  },
  {
   "cell_type": "code",
   "execution_count": 18,
   "id": "05b4b092",
   "metadata": {},
   "outputs": [],
   "source": [
    "def greet_all(names: list[str]) -> None:\n",
    "    for name in names:\n",
    "        print(\"Hello\", name)\n",
    "    "
   ]
  },
  {
   "cell_type": "markdown",
   "id": "c8a707ca",
   "metadata": {},
   "source": [
    "## Dataclasses\n",
    "\n",
    "### Overview\n",
    "Classes contain data and methods. Classes tend towards one or the other. Dataclasses, as the name suggest, are geared towards data rather than behaviour. One difference is that you may have many instances of dataclasses in your code, and that they may need to be compared. \n",
    "\n",
    "Comparable to a struct in C.\n",
    "\n",
    "Dataclasses allow you to write less code which gets enriched with useful methods automatically (repr, comparisons etc)\n",
    "\n",
    "This is especially useful if you need to add more parameters later on - you no longer need to go through each method, adding the variable. \n",
    "\n",
    "### Caveats\n",
    "Types are not enforced, they are just for linting purposes"
   ]
  },
  {
   "cell_type": "code",
   "execution_count": 19,
   "id": "1b248e9b",
   "metadata": {},
   "outputs": [
    {
     "data": {
      "text/plain": [
       "Comment(id=1, text='hello', num_replies=5)"
      ]
     },
     "execution_count": 19,
     "metadata": {},
     "output_type": "execute_result"
    }
   ],
   "source": [
    "from dataclasses import dataclass, field\n",
    "\n",
    "@dataclass(frozen=True, order=True)\n",
    "class Comment:\n",
    "    id: int\n",
    "    text: str = \"\"\n",
    "    num_replies: int = 0\n",
    "        \n",
    "comment = Comment(1, \"hello\", 5)\n",
    "comment"
   ]
  },
  {
   "cell_type": "code",
   "execution_count": null,
   "id": "156465b7",
   "metadata": {},
   "outputs": [],
   "source": []
  }
 ],
 "metadata": {
  "kernelspec": {
   "display_name": "Python 3",
   "language": "python",
   "name": "python3"
  },
  "language_info": {
   "codemirror_mode": {
    "name": "ipython",
    "version": 3
   },
   "file_extension": ".py",
   "mimetype": "text/x-python",
   "name": "python",
   "nbconvert_exporter": "python",
   "pygments_lexer": "ipython3",
   "version": "3.9.5"
  }
 },
 "nbformat": 4,
 "nbformat_minor": 5
}
